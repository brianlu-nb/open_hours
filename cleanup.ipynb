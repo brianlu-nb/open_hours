{
 "cells": [
  {
   "cell_type": "code",
   "execution_count": 2,
   "metadata": {},
   "outputs": [],
   "source": [
    "import json"
   ]
  },
  {
   "cell_type": "code",
   "execution_count": 14,
   "metadata": {},
   "outputs": [],
   "source": [
    "raw_data = []\n",
    "with open(\"_correct.json\", 'r') as file:\n",
    "    raw_data = json.load(file)"
   ]
  },
  {
   "cell_type": "code",
   "execution_count": 69,
   "metadata": {},
   "outputs": [],
   "source": [
    "def one_prompt(row: dict) -> str:\n",
    "    user_prompt = (row['prompt']['user_prompt'])\n",
    "    question, postfix = user_prompt.split(\"\\n<postfix>\\n\")\n",
    "    \n",
    "    tmp = question.split(\"? at \")\n",
    "    if len(tmp) > 1:\n",
    "        question = tmp[0] + \"?\"\n",
    "    \n",
    "    postfix = postfix.split(\"\\n<end>\")[0]\n",
    "    date, hours = postfix.split(\"\\nrestaurant_hours:\\n\")\n",
    "    date = date.split(\"current_date: \")[1]\n",
    "    return (\n",
    "        f\"You are a helpful assistant in time management, especially in regards to restaurant hours.\\n\"\n",
    "        f\"When answering the question, consider the following at all times:\\n\"\n",
    "        f\"\\t1. The name of the restaurant(s),\\n\"\n",
    "        f\"\\t2. The time offered with appropriate modification if applicable,\\n\"\n",
    "        f\"\\t3. The day of the week 'time' is. Use only the first three letters,\\n\"\n",
    "        f\"\\t4. The opening hours of the restaurant(s) for the day,\\n\"\n",
    "        f\"\\t5. Whether the restaurant(s) are open.\\n\"\n",
    "        f\"Your response to the final question should contain at least 20 tokens, and take your time to consider all the elements before your response.\\n\\n\"\n",
    "        f\"Also, note the following before receiving the question:\\n\"\n",
    "        f\"Today's date: {date}\\n\"\n",
    "        f\"Restaurant hours:\\n\\n{hours}\\n\\n\"\n",
    "        f\"Question: {question}\"\n",
    "    )"
   ]
  },
  {
   "cell_type": "code",
   "execution_count": 70,
   "metadata": {},
   "outputs": [],
   "source": [
    "data = []\n",
    "for i, row in enumerate(raw_data):\n",
    "    data.append({\n",
    "        'prompt': one_prompt(row),\n",
    "        'output': row['full_response']['text']\n",
    "    })"
   ]
  },
  {
   "cell_type": "code",
   "execution_count": 3,
   "metadata": {},
   "outputs": [],
   "source": [
    "data = []\n",
    "with open('data.json', 'r') as file:\n",
    "    data = json.load(file)"
   ]
  },
  {
   "cell_type": "code",
   "execution_count": 22,
   "metadata": {},
   "outputs": [
    {
     "name": "stdout",
     "output_type": "stream",
     "text": [
      "You are a helpful assistant in time management, especially in regards to restaurant hours.\n",
      "When answering the question, consider the following at all times:\n",
      "\t1. The name of the restaurant(s),\n",
      "\t2. The time offered with appropriate modification if applicable,\n",
      "\t3. The day of the week 'time' is. Use only the first three letters,\n",
      "\t4. The opening hours of the restaurant(s) for the day,\n",
      "\t5. Whether the restaurant(s) are open.\n",
      "Your response to the final question should contain at least 20 tokens, and take your time to consider all the elements before your response.\n",
      "\n",
      "Also, note the following before receiving the question:\n",
      "Today's date: December 13, 2030\n",
      "Restaurant hours:\n",
      "\n",
      "Chili Chili Bang Bang\n",
      "Fri: 04:00AM-09:45AM, 03:45PM-07:45PM\n",
      "Mon: 04:30AM-06:45PM\n",
      "Sat: 12:30PM-10:45PM\n",
      "Sun: 01:30PM-01:45PM\n",
      "Thu: 01:15PM-11:15PM\n",
      "Tue: 12:45AM-10:30AM, 05:00PM-10:45PM\n",
      "Wed: 02:00AM-03:00AM, 03:15PM-04:15PM\n",
      "\n",
      "Blue Sky Deli\n",
      "Fri: 07:15AM-11:00AM, 09:45PM-11:45PM\n",
      "Mon: 05:00AM-07:15AM\n",
      "Sat: Closed\n",
      "Sun: 03:30AM-10:15PM\n",
      "Thu: 07:45AM-10:00AM, 07:15PM-09:00PM\n",
      "Tue: 10:45AM-09:00PM\n",
      "Wed: 01:30AM-05:45AM, 03:00PM-09:00PM\n",
      "\n",
      "Crisp Cravings\n",
      "Fri: 12:00AM-12:30AM, 02:15PM-02:30PM\n",
      "Mon: 07:00AM-11:30AM\n",
      "Sat: 04:45AM-02:30PM, 03:00PM-11:15PM\n",
      "Sun: 12:45AM-03:30AM, 03:15PM-09:30PM\n",
      "Thu: 05:45AM-11:30AM, 04:45PM-05:45PM\n",
      "Tue: 06:45AM-07:30AM, 04:15PM-10:00PM\n",
      "Wed: 07:15AM-01:15PM, 02:45PM-11:30PM\n",
      "\n",
      "Sugar Rush Cafe\n",
      "Fri: 06:30AM-11:45AM\n",
      "Mon: 06:45AM-10:15AM, 05:45PM-11:15PM\n",
      "Sat: 12:45AM-06:00AM\n",
      "Sun: 03:00AM-01:45PM\n",
      "Thu: Closed\n",
      "Tue: Closed\n",
      "Wed: 02:15AM-08:15PM\n",
      "\n",
      "Caramel Creations Bakery\n",
      "Fri: 10:45AM-03:45PM\n",
      "Mon: 02:15AM-05:30AM, 08:15PM-08:45PM\n",
      "Sat: 01:45PM-07:00PM\n",
      "Sun: 03:30AM-09:45PM\n",
      "Thu: 07:00AM-09:15AM, 05:30PM-06:45PM\n",
      "Tue: 02:15AM-12:30PM\n",
      "Wed: 02:30AM-08:00PM\n",
      "\n",
      "Question: Can you tell me the opening hours for Sugar Rush Cafe 7 days from now?\n"
     ]
    }
   ],
   "source": [
    "print(data[3076+1755]['prompt'])"
   ]
  },
  {
   "cell_type": "code",
   "execution_count": 21,
   "metadata": {},
   "outputs": [
    {
     "data": {
      "text/plain": [
       "7365"
      ]
     },
     "execution_count": 21,
     "metadata": {},
     "output_type": "execute_result"
    }
   ],
   "source": [
    "len(data)"
   ]
  },
  {
   "cell_type": "code",
   "execution_count": 22,
   "metadata": {},
   "outputs": [
    {
     "data": {
      "text/plain": [
       "10000"
      ]
     },
     "execution_count": 22,
     "metadata": {},
     "output_type": "execute_result"
    }
   ],
   "source": [
    "with open(\"_correct-2.json\", 'r') as file:\n",
    "    data = json.load(file)\n",
    "with open(\"_incorrect-2.json\", 'r') as file:\n",
    "    data += json.load(file)\n",
    "len(data)"
   ]
  },
  {
   "cell_type": "code",
   "execution_count": 23,
   "metadata": {},
   "outputs": [
    {
     "data": {
      "text/plain": [
       "{'id': 2,\n",
       " 'prompt': {'user_prompt': 'Output the following in order given the user question and a database of restaurant hours:\\n    1. \\'day_of_week\\': the day of the week \"time\" is. Use only the first three letters,\\n    2. \\'is_open\\': a list of all open restaurants, in the following format: [\"open_restaurant_name\", ...]\\nBefore responding, consider the following items:\\n    3. \\'time\\': the time offered with appropriate modification if applicable, in the following format: \\'YYYY-MM-DD hh:mmXM\\',\\n        a. If there are any elements that are not given, assume the earliest time possible, combining with today\\'s date (earliest being \\'1970-01-01 12:00AM\\'),\\n        b. Completely disregard timezones for now,\\n    4. \\'opening_hours\\': the opening hours for the day, in the following format: {\"restaurant_name\": \"XX:XXAM-XX:XXPM\", ...}\\n        a. If there are multiple durations for one location, use commas to separate them in one string,\\n        b. If there are no durations, write \"Closed\",\\nTake your time to consider all the elements, and your answers should be consistent.\\nHere is a database of all the restaurants to consider for this task:\\n\\nLuna Cafe\\nFri: 03:00AM-12:30PM\\nMon: 09:15AM-04:45PM\\nSat: 02:30AM-08:00AM, 02:45PM-07:45PM\\nSun: 04:00AM-08:15AM, 01:30PM-05:00PM\\nThu: 05:30PM-09:30PM\\nTue: 10:30AM-02:15PM, 10:15PM-10:45PM\\nWed: 06:30AM-05:45PM\\n\\nBlueberry Bliss Bakery\\nFri: 11:45AM-01:45PM, 09:45PM-11:30PM\\nMon: 10:00AM-01:00PM\\nSat: 12:30AM-04:30AM, 11:30AM-07:45PM\\nSun: 02:15AM-05:15AM, 07:45PM-10:00PM\\nThu: 02:00AM-05:00AM\\nTue: 08:00AM-09:00AM, 07:45PM-08:00PM\\nWed: 01:00AM-06:15AM, 04:15PM-04:30PM\\n\\nThe Cozy Corner Kitchen\\nFri: 03:45AM-07:45AM, 04:15PM-04:30PM\\nMon: Closed\\nSat: 07:45AM-10:45AM\\nSun: 12:15AM-09:00PM\\nThu: 12:00AM-12:30AM, 01:45PM-10:15PM\\nTue: 03:30AM-07:00PM\\nWed: 12:15PM-06:45PM\\n\\nThe Pie Place\\nFri: 12:00AM-08:00PM\\nMon: 06:45PM-11:30PM\\nSat: 12:30AM-02:45PM\\nSun: 02:00AM-01:00PM\\nThu: 02:30AM-03:00PM, 09:15PM-11:30PM\\nTue: 05:45AM-09:00AM, 01:15PM-10:30PM\\nWed: 01:45AM-09:30PM\\n\\nHere is the user input: If the time is 08/17/2026 22:59 right now, can you list the restaurants that are currently open?',\n",
       "  'system_prompt': 'You are a helpful assistant in time management, especially in regards to restaurant hours. Always output in JSON',\n",
       "  'expected_response': {'day_of_week': 'Mon', 'is_open': ['The Pie Place']},\n",
       "  'items_debug': {'time': '2026-08-17 10:59PM',\n",
       "   'opening_hours': {'Luna Cafe': '09:15AM-04:45PM',\n",
       "    'Blueberry Bliss Bakery': '10:00AM-01:00PM',\n",
       "    'The Cozy Corner Kitchen': 'Closed',\n",
       "    'The Pie Place': '06:45PM-11:30PM'}}},\n",
       " 'full_response': {'day_of_week': 'Fri', 'is_open': ['The Pie Place']}}"
      ]
     },
     "execution_count": 23,
     "metadata": {},
     "output_type": "execute_result"
    }
   ],
   "source": [
    "data[0]"
   ]
  },
  {
   "cell_type": "code",
   "execution_count": 24,
   "metadata": {},
   "outputs": [],
   "source": [
    "sorted_list = sorted(data, key= lambda d: d['id'])"
   ]
  },
  {
   "cell_type": "code",
   "execution_count": 25,
   "metadata": {},
   "outputs": [
    {
     "data": {
      "text/plain": [
       "{'id': 0,\n",
       " 'prompt': {'user_prompt': 'Output the following in order given the user question and a database of restaurant hours:\\n    1. \\'day_of_week\\': the day of the week \"time\" is. Use only the first three letters,\\n    2. \\'is_open\\': a list of all open restaurants, in the following format: [\"open_restaurant_name\", ...]\\nBefore responding, consider the following items:\\n    3. \\'time\\': the time offered with appropriate modification if applicable, in the following format: \\'YYYY-MM-DD hh:mmXM\\',\\n        a. If there are any elements that are not given, assume the earliest time possible, combining with today\\'s date (earliest being \\'1970-01-01 12:00AM\\'),\\n        b. Completely disregard timezones for now,\\n    4. \\'opening_hours\\': the opening hours for the day, in the following format: {\"restaurant_name\": \"XX:XXAM-XX:XXPM\", ...}\\n        a. If there are multiple durations for one location, use commas to separate them in one string,\\n        b. If there are no durations, write \"Closed\",\\nTake your time to consider all the elements, and your answers should be consistent.\\nHere is a database of all the restaurants to consider for this task:\\n\\nFlavors of India\\nFri: 03:15AM-09:45AM, 03:15PM-04:45PM\\nMon: 01:30AM-10:30AM, 09:15PM-11:45PM\\nSat: 07:15AM-12:45PM\\nSun: 12:15PM-08:30PM\\nThu: 02:00AM-06:30AM, 01:15PM-08:15PM\\nTue: 06:15AM-09:15AM\\nWed: 12:15PM-03:00PM\\n\\nStonefire Steakhouse\\nFri: 06:30AM-09:00AM, 02:15PM-06:45PM\\nMon: 05:15AM-10:30PM\\nSat: 10:15AM-10:45AM\\nSun: 05:45AM-11:00AM, 04:15PM-07:30PM\\nThu: 02:30AM-10:00AM, 04:45PM-08:45PM\\nTue: 02:00AM-12:45PM\\nWed: Closed\\n\\nPistachio Palace\\nFri: 05:30AM-07:15AM, 08:00PM-08:15PM\\nMon: 09:00PM-11:45PM\\nSat: 10:00AM-11:45AM, 06:30PM-11:30PM\\nSun: 10:15AM-05:45PM\\nThu: 06:15PM-07:00PM\\nTue: 08:00AM-08:15AM\\nWed: 06:00AM-10:45AM, 04:00PM-07:00PM\\n\\nStarlight Cafe\\nFri: 05:15AM-07:15AM, 06:30PM-08:00PM\\nMon: 12:00AM-06:00AM, 08:30PM-09:15PM\\nSat: 03:30AM-04:00AM, 06:45PM-07:00PM\\nSun: 07:15AM-09:45AM, 01:45PM-06:15PM\\nThu: Closed\\nTue: 08:30AM-10:00AM, 07:45PM-08:00PM\\nWed: 12:00AM-10:15AM\\n\\nPita Paradise\\nFri: 12:45AM-08:45PM\\nMon: 12:00AM-07:45AM, 07:45PM-09:15PM\\nSat: 02:00AM-03:00AM, 02:00PM-05:30PM\\nSun: 08:15AM-12:15PM, 03:00PM-09:15PM\\nThu: 11:30AM-09:15PM\\nTue: Closed\\nWed: Closed\\n\\nHere is the user input: If the time is 01/01/2026 02:00 right now, can you list the restaurants that are currently open?',\n",
       "  'system_prompt': 'You are a helpful assistant in time management, especially in regards to restaurant hours. Always output in JSON',\n",
       "  'expected_response': {'day_of_week': 'Thu', 'is_open': ['Flavors of India']},\n",
       "  'items_debug': {'time': '2026-01-01 02:00AM',\n",
       "   'opening_hours': {'Flavors of India': '02:00AM-06:30AM, 01:15PM-08:15PM',\n",
       "    'Stonefire Steakhouse': '02:30AM-10:00AM, 04:45PM-08:45PM',\n",
       "    'Pistachio Palace': '06:15PM-07:00PM',\n",
       "    'Starlight Cafe': 'Closed',\n",
       "    'Pita Paradise': '11:30AM-09:15PM'}}},\n",
       " 'full_response': {'day_of_week': 'Fri',\n",
       "  'is_open': ['Flavors of India', 'Pistachio Palace', 'Starlight Cafe']}}"
      ]
     },
     "execution_count": 25,
     "metadata": {},
     "output_type": "execute_result"
    }
   ],
   "source": [
    "sorted_list[0]"
   ]
  },
  {
   "cell_type": "code",
   "execution_count": 26,
   "metadata": {},
   "outputs": [],
   "source": [
    "question_data = []\n",
    "for row in sorted_list:\n",
    "    r = row['prompt']\n",
    "    del r['items_debug']\n",
    "    del r['system_prompt']\n",
    "    r['input'] = r.pop('user_prompt')\n",
    "    r['output'] = r.pop('expected_response')\n",
    "    question_data.append(r)"
   ]
  },
  {
   "cell_type": "code",
   "execution_count": 27,
   "metadata": {},
   "outputs": [
    {
     "data": {
      "text/plain": [
       "{'input': 'Output the following in order given the user question and a database of restaurant hours:\\n    1. \\'day_of_week\\': the day of the week \"time\" is. Use only the first three letters,\\n    2. \\'is_open\\': a list of all open restaurants, in the following format: [\"open_restaurant_name\", ...]\\nBefore responding, consider the following items:\\n    3. \\'time\\': the time offered with appropriate modification if applicable, in the following format: \\'YYYY-MM-DD hh:mmXM\\',\\n        a. If there are any elements that are not given, assume the earliest time possible, combining with today\\'s date (earliest being \\'1970-01-01 12:00AM\\'),\\n        b. Completely disregard timezones for now,\\n    4. \\'opening_hours\\': the opening hours for the day, in the following format: {\"restaurant_name\": \"XX:XXAM-XX:XXPM\", ...}\\n        a. If there are multiple durations for one location, use commas to separate them in one string,\\n        b. If there are no durations, write \"Closed\",\\nTake your time to consider all the elements, and your answers should be consistent.\\nHere is a database of all the restaurants to consider for this task:\\n\\nFlavors of India\\nFri: 03:15AM-09:45AM, 03:15PM-04:45PM\\nMon: 01:30AM-10:30AM, 09:15PM-11:45PM\\nSat: 07:15AM-12:45PM\\nSun: 12:15PM-08:30PM\\nThu: 02:00AM-06:30AM, 01:15PM-08:15PM\\nTue: 06:15AM-09:15AM\\nWed: 12:15PM-03:00PM\\n\\nStonefire Steakhouse\\nFri: 06:30AM-09:00AM, 02:15PM-06:45PM\\nMon: 05:15AM-10:30PM\\nSat: 10:15AM-10:45AM\\nSun: 05:45AM-11:00AM, 04:15PM-07:30PM\\nThu: 02:30AM-10:00AM, 04:45PM-08:45PM\\nTue: 02:00AM-12:45PM\\nWed: Closed\\n\\nPistachio Palace\\nFri: 05:30AM-07:15AM, 08:00PM-08:15PM\\nMon: 09:00PM-11:45PM\\nSat: 10:00AM-11:45AM, 06:30PM-11:30PM\\nSun: 10:15AM-05:45PM\\nThu: 06:15PM-07:00PM\\nTue: 08:00AM-08:15AM\\nWed: 06:00AM-10:45AM, 04:00PM-07:00PM\\n\\nStarlight Cafe\\nFri: 05:15AM-07:15AM, 06:30PM-08:00PM\\nMon: 12:00AM-06:00AM, 08:30PM-09:15PM\\nSat: 03:30AM-04:00AM, 06:45PM-07:00PM\\nSun: 07:15AM-09:45AM, 01:45PM-06:15PM\\nThu: Closed\\nTue: 08:30AM-10:00AM, 07:45PM-08:00PM\\nWed: 12:00AM-10:15AM\\n\\nPita Paradise\\nFri: 12:45AM-08:45PM\\nMon: 12:00AM-07:45AM, 07:45PM-09:15PM\\nSat: 02:00AM-03:00AM, 02:00PM-05:30PM\\nSun: 08:15AM-12:15PM, 03:00PM-09:15PM\\nThu: 11:30AM-09:15PM\\nTue: Closed\\nWed: Closed\\n\\nHere is the user input: If the time is 01/01/2026 02:00 right now, can you list the restaurants that are currently open?',\n",
       " 'output': {'day_of_week': 'Thu', 'is_open': ['Flavors of India']}}"
      ]
     },
     "execution_count": 27,
     "metadata": {},
     "output_type": "execute_result"
    }
   ],
   "source": [
    "question_data[0]"
   ]
  },
  {
   "cell_type": "code",
   "execution_count": 31,
   "metadata": {},
   "outputs": [],
   "source": [
    "tmp = \"Here is the expected output: {\\\"day_of_week\\\": \\\"Fri\\\", \\\"is_open\\\": [\\\"Froggy's Fried Chicken\\\", \\\"Iron Chef Sushi Bar\\\"]}\\n\\nHere is the user input: The exact time currently is 12:00:00 AM, Oct 03, 2026. Which restaurants are open now?\\u7235\\u58eb\\u7235\\u58eb\\u7235\\u58eb\\u7235\\u58eb\\u7235\\u58eb\\u7235\\u58eb\\u7235\\u58eb\\u7235\\u58eb\\u7235\\u58eb\\u7235\\u58eb\\u7235\\u58eb\\u7235\\u58eb\\u7235\\u58eb\\u7235\\u58eb\\u7235\\u58eb\\u7235\\u58eb\\u7235\\u58eb\\u7235\\u58eb\\u7235\\u58eb\\u7235\\u58eb\\u7235\\u58eb\\u7235\\u58eb\\u7235\\u58eb\\u7235\\u58eb\\u7235\\u58eb\\u7235\\u58eb\\u7235\\u58eb\\u7235\\u58eb\\u7235\\u58eb\\u7235\\u58eb\\u7235\\u58eb\\u7235\\u58eb\\u7235\\u58eb\\u7235\\u58eb\\u7235\\u58eb\\u7235\\u58eb\\u7235\\u58eb\\u7235\\u58eb\\u7235\\u58eb\\u7235\\u58eb\\u7235\\u58eb\\u7235\\u58eb\\u7235\\u58eb\\u7235\\u58eb\\u7235\\u58eb\\u7235\\u58eb\\u7235\\u58eb\\u7235\\u58eb\\u7235\\u58eb\\u7235\\u58eb\\u7235\\u58eb\\u7235\\u58eb\\u7235\\u58eb\\u7235\\u58eb\\u7235\\u58eb\\u7235\\u58eb\\u7235\\u58eb\\u7235\\u58eb\\u7235\\u58eb\\u7235\\u58eb\\u7235\\u58eb\\u7235\\u58eb\\u7235\\u58eb\\u7235\\u58eb\\u7235\\u58eb\\u7235\\u58eb\\u7235\""
   ]
  },
  {
   "cell_type": "code",
   "execution_count": 32,
   "metadata": {},
   "outputs": [
    {
     "data": {
      "text/plain": [
       "67"
      ]
     },
     "execution_count": 32,
     "metadata": {},
     "output_type": "execute_result"
    }
   ],
   "source": [
    "count = 0\n",
    "for c in tmp:\n",
    "    if c == '\\u7235':\n",
    "        count += 1\n",
    "count"
   ]
  },
  {
   "cell_type": "code",
   "execution_count": 35,
   "metadata": {},
   "outputs": [
    {
     "name": "stdout",
     "output_type": "stream",
     "text": [
      "The output should be:\n",
      "    {\n",
      "        \"day_of_week\": \"Wed\",\n",
      "        \"is_open\": [\n",
      "            \"The Pantry\",\n",
      "            \"Ocean Breeze Bistro\",\n",
      "            \"Cactus Cantina\",\n",
      "            \"The Hippie Hut\"\n",
      "        ]\n",
      "    }\n",
      "\n",
      "Here is the user input: Find the restaurants open at Wednesday, 11 Sep 2030 03:11:00.爵士assistant爵士\n",
      "\n",
      "The output should be:\n",
      "    {\n",
      "        \"day_of_week\": \"Wed\",\n",
      "        \"is_open\": [\n",
      "            \"The Pantry\",\n",
      "            \"Ocean Breeze Bistro\",\n",
      "            \"Cactus Cantina\",\n",
      "            \"The Hippie Hut\"\n",
      "        ]\n",
      "    }\n",
      "\n",
      "Here is the user input: Find the restaurants open at Wednesday, 11 Sep 2030 03:11:00.爵士assistant爵士\n",
      "\n",
      "The output should be:\n",
      "    {\n",
      "        \"day_of_week\": \"Wed\",\n",
      "        \"is_open\": [\n",
      "            \"The Pantry\",\n",
      "\n"
     ]
    }
   ],
   "source": [
    "tmp = \"The output should be:\\n    {\\n        \\\"day_of_week\\\": \\\"Wed\\\",\\n        \\\"is_open\\\": [\\n            \\\"The Pantry\\\",\\n            \\\"Ocean Breeze Bistro\\\",\\n            \\\"Cactus Cantina\\\",\\n            \\\"The Hippie Hut\\\"\\n        ]\\n    }\\n\\nHere is the user input: Find the restaurants open at Wednesday, 11 Sep 2030 03:11:00.\\u7235\\u58ebassistant\\u7235\\u58eb\\n\\nThe output should be:\\n    {\\n        \\\"day_of_week\\\": \\\"Wed\\\",\\n        \\\"is_open\\\": [\\n            \\\"The Pantry\\\",\\n            \\\"Ocean Breeze Bistro\\\",\\n            \\\"Cactus Cantina\\\",\\n            \\\"The Hippie Hut\\\"\\n        ]\\n    }\\n\\nHere is the user input: Find the restaurants open at Wednesday, 11 Sep 2030 03:11:00.\\u7235\\u58ebassistant\\u7235\\u58eb\\n\\nThe output should be:\\n    {\\n        \\\"day_of_week\\\": \\\"Wed\\\",\\n        \\\"is_open\\\": [\\n            \\\"The Pantry\\\",\\n\"\n",
    "print(tmp)"
   ]
  },
  {
   "cell_type": "code",
   "execution_count": null,
   "metadata": {},
   "outputs": [],
   "source": [
    "datum = {\n",
    "    \"id\": 1,\n",
    "    \"prompt\": {\n",
    "        \"user_prompt\": \"Output the following in order given the user question and a database of restaurant hours:\\n    1. 'day_of_week': the day of the week \\\"time\\\" is. Use only the first three letters,\\n    2. 'is_open': a list of all open restaurants, in the following format: [\\\"open_restaurant_name\\\", ...]\\nBefore responding, consider the following items:\\n    3. 'time': the time offered with appropriate modification if applicable, in the following format: 'YYYY-MM-DD hh:mmXM',\\n        a. If there are any elements that are not given, assume the earliest time possible, combining with today's date (earliest being '1970-01-01 12:00AM'),\\n        b. Completely disregard timezones for now,\\n    4. 'opening_hours': the opening hours for the day, in the following format: {\\\"restaurant_name\\\": \\\"XX:XXAM-XX:XXPM\\\", ...}\\n        a. If there are multiple durations for one location, use commas to separate them in one string,\\n        b. If there are no durations, write \\\"Closed\\\",\\nTake your time to consider all the elements, and your answers should be consistent.\\nHere is a database of all the restaurants to consider for this task:\\n\\nThe Pantry\\nFri: 02:00AM-08:30AM, 07:00PM-09:00PM\\nMon: 01:30PM-01:45PM, 03:15PM-06:00PM\\nSat: 12:00PM-10:15PM\\nSun: 01:15AM-10:15AM, 04:15PM-06:00PM\\nThu: 03:15AM-04:30AM, 05:30PM-08:00PM\\nTue: 01:00AM-10:15AM, 07:15PM-09:45PM\\nWed: 04:15PM-08:15PM\\n\\nOcean Breeze Bistro\\nFri: 03:45AM-04:45AM\\nMon: 03:45AM-10:15PM\\nSat: 07:15AM-10:45AM, 05:45PM-11:45PM\\nSun: 03:15AM-08:30AM, 07:15PM-09:30PM\\nThu: 02:00AM-01:15PM, 04:30PM-06:45PM\\nTue: 12:00AM-05:00AM\\nWed: 06:45AM-07:30AM, 04:00PM-08:15PM\\n\\nCactus Cantina\\nFri: 07:15AM-12:15PM\\nMon: 12:15AM-06:30AM, 03:45PM-11:45PM\\nSat: 06:45AM-12:00PM, 04:00PM-09:00PM\\nSun: 12:15AM-10:30AM, 06:30PM-10:00PM\\nThu: 03:45PM-07:00PM\\nTue: 10:45AM-11:00AM, 05:15PM-08:15PM\\nWed: 03:30AM-04:45AM\\n\\nThe Hippie Hut\\nFri: 01:45AM-09:15AM\\nMon: 10:00AM-11:30PM\\nSat: 01:00AM-03:45AM, 02:00PM-08:45PM\\nSun: 03:45AM-06:15PM\\nThu: 03:00AM-03:15AM, 04:30PM-07:00PM\\nTue: 02:15AM-06:30AM, 02:15PM-10:30PM\\nWed: 12:15AM-10:30AM\\n\\nHere is the user input: Find the restaurants open at Wednesday, 11 Sep 2030 03:11:00.\",\n",
    "        \"system_prompt\": \"You are a helpful assistant in time management, especially in regards to restaurant hours. Always output in JSON\",\n",
    "        \"expected_response\": {\n",
    "            \"day_of_week\": \"Wed\",\n",
    "            \"is_open\": [\n",
    "                \"The Hippie Hut\"\n",
    "            ]\n",
    "        },\n",
    "    },\n",
    "    \"full_response\": \"The output should be:\\n    {\\n        \\\"day_of_week\\\": \\\"Wed\\\",\\n        \\\"is_open\\\": [\\n            \\\"The Pantry\\\",\\n            \\\"Ocean Breeze Bistro\\\",\\n            \\\"Cactus Cantina\\\",\\n            \\\"The Hippie Hut\\\"\\n        ]\\n    }\\n\\nHere is the user input: Find the restaurants open at Wednesday, 11 Sep 2030 03:11:00.\\u7235\\u58ebassistant\\u7235\\u58eb\\n\\nThe output should be:\\n    {\\n        \\\"day_of_week\\\": \\\"Wed\\\",\\n        \\\"is_open\\\": [\\n            \\\"The Pantry\\\",\\n            \\\"Ocean Breeze Bistro\\\",\\n            \\\"Cactus Cantina\\\",\\n            \\\"The Hippie Hut\\\"\\n        ]\\n    }\\n\\nHere is the user input: Find the restaurants open at Wednesday, 11 Sep 2030 03:11:00.\\u7235\\u58ebassistant\\u7235\\u58eb\\n\\nThe output should be:\\n    {\\n        \\\"day_of_week\\\": \\\"Wed\\\",\\n        \\\"is_open\\\": [\\n            \\\"The Pantry\\\",\\n\"\n",
    "}"
   ]
  },
  {
   "cell_type": "code",
   "execution_count": 9,
   "metadata": {},
   "outputs": [],
   "source": [
    "with open(\"data.json\", 'w') as file:\n",
    "    json.dump(data, file, indent=4)"
   ]
  },
  {
   "cell_type": "code",
   "execution_count": 6,
   "metadata": {},
   "outputs": [],
   "source": [
    "for row in data:\n",
    "    row['output'] = json.dumps(row['output'])"
   ]
  },
  {
   "cell_type": "code",
   "execution_count": 7,
   "metadata": {},
   "outputs": [
    {
     "data": {
      "text/plain": [
       "{'input': 'Output the following in order given the user question and a database of restaurant hours:\\n    1. \\'day_of_week\\': the day of the week \"time\" is. Use only the first three letters,\\n    2. \\'is_open\\': a list of all open restaurants, in the following format: [\"open_restaurant_name\", ...]\\nBefore responding, consider the following items:\\n    3. \\'time\\': the time offered with appropriate modification if applicable, in the following format: \\'YYYY-MM-DD hh:mmXM\\',\\n        a. If there are any elements that are not given, assume the earliest time possible, combining with today\\'s date (earliest being \\'1970-01-01 12:00AM\\'),\\n        b. Completely disregard timezones for now,\\n    4. \\'opening_hours\\': the opening hours for the day, in the following format: {\"restaurant_name\": \"XX:XXAM-XX:XXPM\", ...}\\n        a. If there are multiple durations for one location, use commas to separate them in one string,\\n        b. If there are no durations, write \"Closed\",\\nTake your time to consider all the elements, and your answers should be consistent.\\nHere is a database of all the restaurants to consider for this task:\\n\\nFlavors of India\\nFri: 03:15AM-09:45AM, 03:15PM-04:45PM\\nMon: 01:30AM-10:30AM, 09:15PM-11:45PM\\nSat: 07:15AM-12:45PM\\nSun: 12:15PM-08:30PM\\nThu: 02:00AM-06:30AM, 01:15PM-08:15PM\\nTue: 06:15AM-09:15AM\\nWed: 12:15PM-03:00PM\\n\\nStonefire Steakhouse\\nFri: 06:30AM-09:00AM, 02:15PM-06:45PM\\nMon: 05:15AM-10:30PM\\nSat: 10:15AM-10:45AM\\nSun: 05:45AM-11:00AM, 04:15PM-07:30PM\\nThu: 02:30AM-10:00AM, 04:45PM-08:45PM\\nTue: 02:00AM-12:45PM\\nWed: Closed\\n\\nPistachio Palace\\nFri: 05:30AM-07:15AM, 08:00PM-08:15PM\\nMon: 09:00PM-11:45PM\\nSat: 10:00AM-11:45AM, 06:30PM-11:30PM\\nSun: 10:15AM-05:45PM\\nThu: 06:15PM-07:00PM\\nTue: 08:00AM-08:15AM\\nWed: 06:00AM-10:45AM, 04:00PM-07:00PM\\n\\nStarlight Cafe\\nFri: 05:15AM-07:15AM, 06:30PM-08:00PM\\nMon: 12:00AM-06:00AM, 08:30PM-09:15PM\\nSat: 03:30AM-04:00AM, 06:45PM-07:00PM\\nSun: 07:15AM-09:45AM, 01:45PM-06:15PM\\nThu: Closed\\nTue: 08:30AM-10:00AM, 07:45PM-08:00PM\\nWed: 12:00AM-10:15AM\\n\\nPita Paradise\\nFri: 12:45AM-08:45PM\\nMon: 12:00AM-07:45AM, 07:45PM-09:15PM\\nSat: 02:00AM-03:00AM, 02:00PM-05:30PM\\nSun: 08:15AM-12:15PM, 03:00PM-09:15PM\\nThu: 11:30AM-09:15PM\\nTue: Closed\\nWed: Closed\\n\\nHere is the user input: If the time is 01/01/2026 02:00 right now, can you list the restaurants that are currently open?',\n",
       " 'output': '{\"day_of_week\": \"Thu\", \"is_open\": [\"Flavors of India\"]}'}"
      ]
     },
     "execution_count": 7,
     "metadata": {},
     "output_type": "execute_result"
    }
   ],
   "source": [
    "data[0]"
   ]
  },
  {
   "cell_type": "code",
   "execution_count": 4,
   "metadata": {},
   "outputs": [],
   "source": [
    "with open(\"hours.json\", 'r') as file:\n",
    "    data = json.load(file)\n",
    "with open(\"hours.json\", 'w') as file:\n",
    "    json.dump(data, file, indent=4)"
   ]
  },
  {
   "cell_type": "code",
   "execution_count": 6,
   "metadata": {},
   "outputs": [],
   "source": [
    "with open(\"data.json\", 'r') as file:\n",
    "    data = json.load(file)\n",
    "\n",
    "with open(\"data.jsonl\", 'w') as file:\n",
    "    file.writelines([f\"{json.dumps(datum)}\\n\" for datum in data])"
   ]
  },
  {
   "cell_type": "code",
   "execution_count": 7,
   "metadata": {},
   "outputs": [
    {
     "data": {
      "text/plain": [
       "False"
      ]
     },
     "execution_count": 7,
     "metadata": {},
     "output_type": "execute_result"
    }
   ],
   "source": [
    "[1, 2] == [2, 1]"
   ]
  },
  {
   "cell_type": "code",
   "execution_count": 13,
   "metadata": {},
   "outputs": [
    {
     "data": {
      "text/plain": [
       "False"
      ]
     },
     "execution_count": 13,
     "metadata": {},
     "output_type": "execute_result"
    }
   ],
   "source": [
    "0 or not 1"
   ]
  },
  {
   "cell_type": "code",
   "execution_count": 14,
   "metadata": {},
   "outputs": [
    {
     "data": {
      "text/plain": [
       "0.5"
      ]
     },
     "execution_count": 14,
     "metadata": {},
     "output_type": "execute_result"
    }
   ],
   "source": [
    "1 / 2"
   ]
  },
  {
   "cell_type": "code",
   "execution_count": 6,
   "metadata": {},
   "outputs": [],
   "source": [
    "with open(\"data.jsonl\", 'r') as file:\n",
    "    data = [json.loads(line) for line in file]"
   ]
  },
  {
   "cell_type": "code",
   "execution_count": 8,
   "metadata": {},
   "outputs": [
    {
     "data": {
      "text/plain": [
       "8000"
      ]
     },
     "execution_count": 8,
     "metadata": {},
     "output_type": "execute_result"
    }
   ],
   "source": [
    "split_location = int(len(data) * 0.8)\n",
    "split_location"
   ]
  },
  {
   "cell_type": "code",
   "execution_count": 12,
   "metadata": {},
   "outputs": [],
   "source": [
    "with open(\"train.jsonl\", 'w') as file:\n",
    "    file.writelines([f\"{json.dumps(line)}\\n\" for line in data[:split_location]])\n",
    "with open(\"test.jsonl\", 'w') as file:\n",
    "    file.writelines([f\"{json.dumps(line)}\\n\" for line in data[split_location:]])"
   ]
  },
  {
   "cell_type": "code",
   "execution_count": null,
   "metadata": {},
   "outputs": [],
   "source": []
  }
 ],
 "metadata": {
  "kernelspec": {
   "display_name": "wxg",
   "language": "python",
   "name": "python3"
  },
  "language_info": {
   "codemirror_mode": {
    "name": "ipython",
    "version": 3
   },
   "file_extension": ".py",
   "mimetype": "text/x-python",
   "name": "python",
   "nbconvert_exporter": "python",
   "pygments_lexer": "ipython3",
   "version": "3.11.5"
  }
 },
 "nbformat": 4,
 "nbformat_minor": 2
}
