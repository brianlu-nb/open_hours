{
 "cells": [
  {
   "cell_type": "code",
   "execution_count": 2,
   "metadata": {},
   "outputs": [],
   "source": [
    "from huggingface_hub import InferenceClient"
   ]
  },
  {
   "cell_type": "code",
   "execution_count": 3,
   "metadata": {},
   "outputs": [],
   "source": [
    "def apply_template(prompt:str):\n",
    "    ret = \"<|begin_of_text|><|start_header_id|>user<|end_header_id|>\"\n",
    "    ret += \"\\n\\n\"\n",
    "    ret += f\"{prompt.strip()}<|eot_id|><|start_header_id|>assistant<|end_header_id|>\"\n",
    "    ret += \"\\n\\n\"\n",
    "    return ret"
   ]
  },
  {
   "cell_type": "code",
   "execution_count": 28,
   "metadata": {},
   "outputs": [
    {
     "name": "stdout",
     "output_type": "stream",
     "text": [
      "<|begin_of_text|><|start_header_id|>user<|end_header_id|>\n",
      "\n",
      "Hello?<|eot_id|><|start_header_id|>assistant<|end_header_id|>\n",
      "\n",
      "\n"
     ]
    }
   ],
   "source": [
    "print(apply_template(\"Hello?\"))"
   ]
  },
  {
   "cell_type": "code",
   "execution_count": 4,
   "metadata": {},
   "outputs": [],
   "source": [
    "prompt = \"<|begin_of_text|><|start_header_id|>user<|end_header_id|>\\n\\nI saw a puppy a cat and a raccoon during my bike ride in the park.<|eot_id|><|start_header_id|>assistant<|end_header_id|>\\n\\n\""
   ]
  },
  {
   "cell_type": "code",
   "execution_count": 5,
   "metadata": {},
   "outputs": [
    {
     "name": "stdout",
     "output_type": "stream",
     "text": [
      "TextGenerationOutput(generated_text='What is 1 + 1? bindActionCreators bindActionCreators bindActionCreators bindActionCreators bindActionCreators bindActionCreators bindActionCreators bindActionCreators bindActionCreators bindActionCreators bindActionCreators bindActionCreators bindActionCreators bindActionCreators bindActionCreators bindActionCreators bindActionCreators bindActionCreators bindActionCreators bindActionCreators bindActionCreators bindActionCreators bindActionCreators bindActionCreators bindActionCreators bindActionCreators bindActionCreators bindActionCreators bindActionCreators bindActionCreators bindActionCreators bindActionCreators bindActionCreators bindActionCreators bindActionCreators bindActionCreators bindActionCreators bindActionCreators bindActionCreators bindActionCreators bindActionCreators bindActionCreators bindActionCreators bindActionCreators bindActionCreators bindActionCreators bindActionCreators bindActionCreators bindActionCreators bindActionCreators bindActionCreators bindActionCreators bindActionCreators bindActionCreators bindActionCreators bindActionCreators bindActionCreators bindActionCreators bindActionCreators bindActionCreators bindActionCreators bindActionCreators bindActionCreators bindActionCreators bindActionCreators bindActionCreators bindActionCreators bindActionCreators bindActionCreators bindActionCreators bindActionCreators bindActionCreators bindActionCreators bindActionCreators bindActionCreators bindActionCreators bindActionCreators bindActionCreators bindActionCreators bindActionCreators bindActionCreators bindActionCreators bindActionCreators bindActionCreators bindActionCreators bindActionCreators bindActionCreators bindActionCreators bindActionCreators bindActionCreators bindActionCreators bindActionCreators bindActionCreators bindActionCreators bindActionCreators bindActionCreators bindActionCreators bindActionCreators bindActionCreators bindActionCreators bindActionCreators bindActionCreators bindActionCreators bindActionCreators bindActionCreators bindActionCreators bindActionCreators bindActionCreators bindActionCreators bindActionCreators bindActionCreators bindActionCreators bindActionCreators bindActionCreators bindActionCreators bindActionCreators bindActionCreators bindActionCreators bindActionCreators bindActionCreators bindActionCreators bindActionCreators bindActionCreators bindActionCreators bindActionCreators bindActionCreators bindActionCreators bindActionCreators bindActionCreators bindActionCreators bindActionCreators bindActionCreators bindActionCreators bindActionCreators bindActionCreators bindActionCreators bindActionCreators bindActionCreators bindActionCreators bindActionCreators bindActionCreators bindActionCreators bindActionCreators bindActionCreators bindActionCreators bindActionCreators bindActionCreators bindActionCreators bindActionCreators bindActionCreators bindActionCreators bindActionCreators bindActionCreators bindActionCreators bindActionCreators bindActionCreators bindActionCreators bindActionCreators bindActionCreators bindActionCreators bindActionCreators bindActionCreators bindActionCreators bindActionCreators bindActionCreators bindActionCreators bindActionCreators bindActionCreators bindActionCreators bindActionCreators bindActionCreators bindActionCreators bindActionCreators bindActionCreators bindActionCreators bindActionCreators bindActionCreators bindActionCreators bindActionCreators bindActionCreators bindActionCreators bindActionCreators bindActionCreators bindActionCreators bindActionCreators bindActionCreators bindActionCreators bindActionCreators bindActionCreators bindActionCreators bindActionCreators bindActionCreators bindActionCreators bindActionCreators bindActionCreators bindActionCreators bindActionCreators bindActionCreators bindActionCreators bindActionCreators bindActionCreators bindActionCreators bindActionCreators bindActionCreators bindActionCreators bindActionCreators bindActionCreators bindActionCreators bindActionCreators bindActionCreators bindActionCreators bindActionCreators bindActionCreators bindActionCreators bindActionCreators bindActionCreators bindActionCreators bindActionCreators bindActionCreators bindActionCreators bindActionCreators bindActionCreators bindActionCreators bindActionCreators bindActionCreators bindActionCreators bindActionCreators bindActionCreators bindActionCreators bindActionCreators bindActionCreators bindActionCreators bindActionCreators bindActionCreators bindActionCreators bindActionCreators bindActionCreators bindActionCreators bindActionCreators bindActionCreators bindActionCreators bindActionCreators bindActionCreators bindActionCreators bindActionCreators bindActionCreators bindActionCreators bindActionCreators bindActionCreators bindActionCreators bindActionCreators bindActionCreators bindActionCreators bindActionCreators bindActionCreators bindActionCreators bindActionCreators bindActionCreators bindActionCreators bindActionCreators bindActionCreators bindActionCreators bindActionCreators bindActionCreators bindActionCreators bindActionCreators bindActionCreators bindActionCreators bindActionCreators bindActionCreators bindActionCreators bindActionCreators bindActionCreators bindActionCreators bindActionCreators bindActionCreators bindActionCreators bindActionCreators bindActionCreators bindActionCreators bindActionCreators bindActionCreators bindActionCreators bindActionCreators bindActionCreators bindActionCreators bindActionCreators bindActionCreators bindActionCreators bindActionCreators bindActionCreators bindActionCreators bindActionCreators bindActionCreators bindActionCreators bindActionCreators bindActionCreators bindActionCreators bindActionCreators bindActionCreators bindActionCreators bindActionCreators bindActionCreators bindActionCreators bindActionCreators bindActionCreators bindActionCreators bindActionCreators bindActionCreators bindActionCreators bindActionCreators bindActionCreators bindActionCreators bindActionCreators bindActionCreators bindActionCreators bindActionCreators bindActionCreators bindActionCreators bindActionCreators bindActionCreators bindActionCreators bindActionCreators bindActionCreators bindActionCreators bindActionCreators bindActionCreators bindActionCreators bindActionCreators bindActionCreators bindActionCreators bindActionCreators bindActionCreators bindActionCreators bindActionCreators bindActionCreators bindActionCreators bindActionCreators bindActionCreators bindActionCreators bindActionCreators bindActionCreators bindActionCreators bindActionCreators bindActionCreators bindActionCreators bindActionCreators bindActionCreators bindActionCreators bindActionCreators bindActionCreators bindActionCreators bindActionCreators bindActionCreators bindActionCreators bindActionCreators bindActionCreators bindActionCreators bindActionCreators bindActionCreators bindActionCreators bindActionCreators bindActionCreators bindActionCreators bindActionCreators bindActionCreators bindActionCreators bindActionCreators bindActionCreators bindActionCreators bindActionCreators bindActionCreators bindActionCreators bindActionCreators bindActionCreators bindActionCreators bindActionCreators bindActionCreators bindActionCreators bindActionCreators bindActionCreators bindActionCreators bindActionCreators bindActionCreators bindActionCreators bindActionCreators bindActionCreators bindActionCreators bindActionCreators bindActionCreators bindActionCreators bindActionCreators bindActionCreators bindActionCreators bindActionCreators bindActionCreators bindActionCreators bindActionCreators bindActionCreators bindActionCreators bindActionCreators bindActionCreators bindActionCreators bindActionCreators bindActionCreators bindActionCreators bindActionCreators bindActionCreators bindActionCreators bindActionCreators bindActionCreators bindActionCreators bindActionCreators bindActionCreators bindActionCreators bindActionCreators bindActionCreators bindActionCreators bindActionCreators bindActionCreators bindActionCreators bindActionCreators bindActionCreators bindActionCreators bindActionCreators bindActionCreators bindActionCreators bindActionCreators bindActionCreators bindActionCreators bindActionCreators bindActionCreators bindActionCreators bindActionCreators bindActionCreators bindActionCreators bindActionCreators bindActionCreators bindActionCreators bindActionCreators bindActionCreators bindActionCreators bindActionCreators bindActionCreators bindActionCreators bindActionCreators bindActionCreators bindActionCreators bindActionCreators bindActionCreators bindActionCreators bindActionCreators bindActionCreators bindActionCreators bindActionCreators bindActionCreators bindActionCreators bindActionCreators bindActionCreators bindActionCreators bindActionCreators bindActionCreators bindActionCreators bindActionCreators bindActionCreators bindActionCreators bindActionCreators bindActionCreators bindActionCreators bindActionCreators bindActionCreators bindActionCreators bindActionCreators bindActionCreators bindActionCreators bindActionCreators bindActionCreators bindActionCreators bindActionCreators bindActionCreators bindActionCreators bindActionCreators bindActionCreators bindActionCreators bindActionCreators bindActionCreators bindActionCreators bindActionCreators bindActionCreators bindActionCreators bindActionCreators bindActionCreators bindActionCreators bindActionCreators bindActionCreators bindActionCreators bindActionCreators bindActionCreators bindActionCreators bindActionCreators bindActionCreators bindActionCreators bindActionCreators bindActionCreators bindActionCreators bindActionCreators bindActionCreators bindActionCreators bindActionCreators bindActionCreators bindActionCreators bindActionCreators bindActionCreators bindActionCreators bindActionCreators bindActionCreators bindActionCreators bindActionCreators bindActionCreators bindActionCreators bindActionCreators bindActionCreators bindActionCreators bindActionCreators bindActionCreators bindActionCreators bindActionCreators bindActionCreators bindActionCreators bindActionCreators bindActionCreators bindActionCreators bindActionCreators bindActionCreators bindActionCreators bindActionCreators bindActionCreators bindActionCreators bindActionCreators bindActionCreators bindActionCreators bindActionCreators bindActionCreators bindActionCreators bindActionCreators bindActionCreators bindActionCreators bindActionCreators bindActionCreators bindActionCreators bindActionCreators bindActionCreators bindActionCreators bindActionCreators bindActionCreators bindActionCreators bindActionCreators bindActionCreators bindActionCreators bindActionCreators bindActionCreators bindActionCreators bindActionCreators bindActionCreators bindActionCreators bindActionCreators bindActionCreators bindActionCreators bindActionCreators bindActionCreators bindActionCreators bindActionCreators bindActionCreators bindActionCreators bindActionCreators bindActionCreators bindActionCreators bindActionCreators bindActionCreators bindActionCreators bindActionCreators bindActionCreators bindActionCreators bindActionCreators bindActionCreators bindActionCreators bindActionCreators bindActionCreators bindActionCreators bindActionCreators bindActionCreators bindActionCreators bindActionCreators bindActionCreators bindActionCreators bindActionCreators bindActionCreators bindActionCreators bindActionCreators bindActionCreators bindActionCreators bindActionCreators bindActionCreators bindActionCreators bindActionCreators bindActionCreators bindActionCreators bindActionCreators bindActionCreators bindActionCreators bindActionCreators bindActionCreators bindActionCreators bindActionCreators bindActionCreators bindActionCreators bindActionCreators bindActionCreators bindActionCreators bindActionCreators bindActionCreators bindActionCreators bindActionCreators bindActionCreators bindActionCreators bindActionCreators bindActionCreators bindActionCreators bindActionCreators bindActionCreators bindActionCreators bindActionCreators bindActionCreators bindActionCreators bindActionCreators bindActionCreators bindActionCreators bindActionCreators bindActionCreators bindActionCreators bindActionCreators bindActionCreators bindActionCreators bindActionCreators bindActionCreators bindActionCreators bindActionCreators bindActionCreators bindActionCreators bindActionCreators bindActionCreators bindActionCreators bindActionCreators bindActionCreators bindActionCreators bindActionCreators bindActionCreators bindActionCreators bindActionCreators bindActionCreators bindActionCreators bindActionCreators bindActionCreators bindActionCreators bindActionCreators bindActionCreators bindActionCreators bindActionCreators bindActionCreators bindActionCreators bindActionCreators bindActionCreators bindActionCreators bindActionCreators bindActionCreators bindActionCreators bindActionCreators bindActionCreators bindActionCreators bindActionCreators bindActionCreators bindActionCreators bindActionCreators bindActionCreators bindActionCreators bindActionCreators bindActionCreators bindActionCreators bindActionCreators bindActionCreators bindActionCreators bindActionCreators bindActionCreators bindActionCreators bindActionCreators bindActionCreators bindActionCreators bindActionCreators bindActionCreators bindActionCreators bindActionCreators bindActionCreators bindActionCreators bindActionCreators bindActionCreators bindActionCreators bindActionCreators bindActionCreators bindActionCreators bindActionCreators bindActionCreators bindActionCreators bindActionCreators bindActionCreators bindActionCreators bindActionCreators bindActionCreators bindActionCreators bindActionCreators bindActionCreators bindActionCreators bindActionCreators bindActionCreators bindActionCreators bindActionCreators bindActionCreators bindActionCreators bindActionCreators bindActionCreators bindActionCreators bindActionCreators bindActionCreators bindActionCreators bindActionCreators bindActionCreators bindActionCreators bindActionCreators bindActionCreators bindActionCreators bindActionCreators bindActionCreators bindActionCreators bindActionCreators bindActionCreators bindActionCreators bindActionCreators bindActionCreators bindActionCreators bindActionCreators bindActionCreators bindActionCreators bindActionCreators bindActionCreators bindActionCreators bindActionCreators bindActionCreators bindActionCreators bindActionCreators bindActionCreators bindActionCreators bindActionCreators bindActionCreators bindActionCreators bindActionCreators bindActionCreators bindActionCreators bindActionCreators bindActionCreators bindActionCreators bindActionCreators bindActionCreators bindActionCreators bindActionCreators bindActionCreators bindActionCreators bindActionCreators bindActionCreators bindActionCreators bindActionCreators bindActionCreators bindActionCreators bindActionCreators bindActionCreators bindActionCreators bindActionCreators bindActionCreators bindActionCreators bindActionCreators bindActionCreators bindActionCreators bindActionCreators bindActionCreators bindActionCreators bindActionCreators bindActionCreators bindActionCreators bindActionCreators bindActionCreators bindActionCreators bindActionCreators bindActionCreators bindActionCreators bindActionCreators bindActionCreators bindActionCreators bindActionCreators bindActionCreators bindActionCreators bindActionCreators bindActionCreators bindActionCreators bindActionCreators bindActionCreators bindActionCreators bindActionCreators bindActionCreators bindActionCreators bindActionCreators bindActionCreators bindActionCreators bindActionCreators bindActionCreators bindActionCreators bindActionCreators bindActionCreators bindActionCreators bindActionCreators bindActionCreators bindActionCreators bindActionCreators bindActionCreators bindActionCreators bindActionCreators bindActionCreators bindActionCreators bindActionCreators bindActionCreators bindActionCreators bindActionCreators bindActionCreators bindActionCreators bindActionCreators bindActionCreators bindActionCreators bindActionCreators bindActionCreators bindActionCreators bindActionCreators bindActionCreators bindActionCreators bindActionCreators bindActionCreators bindActionCreators bindActionCreators bindActionCreators bindActionCreators bindActionCreators bindActionCreators bindActionCreators bindActionCreators bindActionCreators bindActionCreators bindActionCreators bindActionCreators bindActionCreators bindActionCreators bindActionCreators bindActionCreators bindActionCreators bindActionCreators bindActionCreators bindActionCreators bindActionCreators bindActionCreators bindActionCreators bindActionCreators bindActionCreators bindActionCreators bindActionCreators bindActionCreators bindActionCreators bindActionCreators bindActionCreators bindActionCreators bindActionCreators bindActionCreators bindActionCreators bindActionCreators bindActionCreators bindActionCreators bindActionCreators bindActionCreators bindActionCreators bindActionCreators bindActionCreators bindActionCreators bindActionCreators bindActionCreators bindActionCreators bindActionCreators bindActionCreators bindActionCreators bindActionCreators bindActionCreators bindActionCreators bindActionCreators bindActionCreators bindActionCreators bindActionCreators bindActionCreators bindActionCreators bindActionCreators bindActionCreators bindActionCreators bindActionCreators bindActionCreators bindActionCreators bindActionCreators bindActionCreators bindActionCreators bindActionCreators bindActionCreators bindActionCreators bindActionCreators bindActionCreators bindActionCreators bindActionCreators bindActionCreators bindActionCreators bindActionCreators bindActionCreators bindActionCreators bindActionCreators bindActionCreators bindActionCreators bindActionCreators bindActionCreators bindActionCreators bindActionCreators bindActionCreators bindActionCreators bindActionCreators bindActionCreators bindActionCreators bindActionCreators bindActionCreators bindActionCreators bindActionCreators bindActionCreators bindActionCreators bindActionCreators bindActionCreators bindActionCreators bindActionCreators bindActionCreators bindActionCreators bindActionCreators bindActionCreators bindActionCreators bindActionCreators bindActionCreators bindActionCreators bindActionCreators bindActionCreators bindActionCreators bindActionCreators bindActionCreators bindActionCreators bindActionCreators bindActionCreators bindActionCreators bindActionCreators bindActionCreators bindActionCreators bindActionCreators bindActionCreators bindActionCreators bindActionCreators bindActionCreators bindActionCreators bindActionCreators bindActionCreators bindActionCreators bindActionCreators bindActionCreators bindActionCreators bindActionCreators bindActionCreators bindActionCreators bindActionCreators bindActionCreators bindActionCreators', details=None)\n"
     ]
    }
   ],
   "source": [
    "client = InferenceClient(model=\"http://172.83.13.53:8001\")\n",
    "\n",
    "model_output = client.text_generation(\n",
    "    apply_template(\"What is 1 + 1?\"),\n",
    "    max_new_tokens=1000,\n",
    "    temperature=0.1,\n",
    "    top_k=40,\n",
    "    do_sample=True,\n",
    "    details=True,\n",
    ")\n",
    "print(model_output)"
   ]
  },
  {
   "cell_type": "code",
   "execution_count": 6,
   "metadata": {},
   "outputs": [
    {
     "name": "stdout",
     "output_type": "stream",
     "text": [
      "{  \"activity\": \"biking\",  \"animals\": [    \"puppy\",    \"cat\",    \"raccoon\"  ] ,  \"animals_seen\": 3 ,  \"location\": \"park\"  }\n"
     ]
    }
   ],
   "source": [
    "print(model_output.generated_text)"
   ]
  },
  {
   "cell_type": "code",
   "execution_count": null,
   "metadata": {},
   "outputs": [],
   "source": []
  },
  {
   "cell_type": "code",
   "execution_count": null,
   "metadata": {},
   "outputs": [],
   "source": []
  }
 ],
 "metadata": {
  "kernelspec": {
   "display_name": "wxg",
   "language": "python",
   "name": "python3"
  },
  "language_info": {
   "codemirror_mode": {
    "name": "ipython",
    "version": 3
   },
   "file_extension": ".py",
   "mimetype": "text/x-python",
   "name": "python",
   "nbconvert_exporter": "python",
   "pygments_lexer": "ipython3",
   "version": "3.11.5"
  }
 },
 "nbformat": 4,
 "nbformat_minor": 2
}
